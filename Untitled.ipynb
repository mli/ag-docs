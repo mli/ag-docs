{
 "cells": [
  {
   "cell_type": "markdown",
   "id": "782c8e7f",
   "metadata": {},
   "source": [
    "Convert ipynb to rst\n"
   ]
  },
  {
   "cell_type": "code",
   "execution_count": 68,
   "id": "55f735b7",
   "metadata": {},
   "outputs": [],
   "source": [
    "from typing import Dict\n",
    "import nbconvert\n",
    "import nbformat\n",
    "from nbformat import notebooknode\n",
    "import pathlib \n",
    "import os\n",
    "import hashlib\n",
    "\n",
    "def add_toggle_button(nb):\n",
    "    for i, cell in enumerate(nb.cells):\n",
    "        if cell.cell_type != 'code':\n",
    "            continue\n",
    "        code = '```python\\n' + cell.source + '\\n```'\n",
    "        output = '\\n'.join([o.get('text') for o in cell.outputs if o.get('text')])\n",
    "        if output:\n",
    "            output =  '```\\n' + output + '\\n```'\n",
    "        toggle_code = False\n",
    "        toggle_output = cell.metadata.get('collapsed')\n",
    "        new_lines = []\n",
    "        for l in code.splitlines():\n",
    "            if l.startswith('#@title'):\n",
    "                toggle_code = True\n",
    "            else:\n",
    "                new_lines.append(l)\n",
    "        mark_start = '::::{toggle}'\n",
    "        mark_end = '::::'\n",
    "        if toggle_code:\n",
    "            items = [mark_start, '\\n'.join(new_lines)]\n",
    "            if toggle_output:\n",
    "                items += [output, mark_end]\n",
    "            else:\n",
    "                items += [mark_end, output]\n",
    "        else:\n",
    "            if toggle_output:\n",
    "                items = [code, mark_start, output, mark_end]\n",
    "            else:\n",
    "                continue\n",
    "        nb.cells[i] = nbformat.v4.new_markdown_cell('\\n\\n'.join(items))\n",
    "    return nb\n",
    "    \n",
    "def convert_notebook(nb: notebooknode.NotebookNode, resources: Dict[str, str]):\n",
    "    writer = nbconvert.RSTExporter()\n",
    "    nb = add_toggle_button(nb)\n",
    "    body, resources = writer.from_notebook_node(nb, resources)\n",
    "    # fix table\n",
    "    body = body.replace('<table border=\"1\" class=\"dataframe\">', '<table class=\"dataframe docutils\">')\n",
    "    body = body.replace('class=\"colab-df-container\"', 'class=\"colab-df-container table-wrapper\"')\n",
    "    return body, resources\n",
    "\n",
    "def ipynb2rst(input_fn: str, output_fn: str):\n",
    "    if pathlib.Path(input_fn).stat().st_size == 0:\n",
    "        return\n",
    "    with open(input_fn, 'r') as f:\n",
    "        nb = nbformat.read(f, as_version=4)\n",
    "    sig = hashlib.sha1(input_fn.encode()).hexdigest()[:6]\n",
    "    resources = {\n",
    "        'unique_key':\n",
    "        'output_' + os.path.splitext(os.path.basename(output_fn))[0] + '_' + sig}\n",
    "    body, resources = convert_notebook(nb, resources)\n",
    "    with open(output_fn, 'w') as f:\n",
    "        f.write(body)\n",
    "    outputs = resources['outputs']\n",
    "    base_dir = os.path.dirname(output_fn)\n",
    "    for fn in outputs:\n",
    "        full_fn = os.path.join(base_dir, fn)\n",
    "        with open(full_fn, 'wb') as f:\n",
    "            f.write(outputs[fn])\n",
    "\n",
    "import glob\n",
    "\n",
    "for nb in glob.glob('**/*.ipynb'):\n",
    "    ipynb2rst(nb, nb[:-5]+'rst')"
   ]
  },
  {
   "cell_type": "code",
   "execution_count": 65,
   "id": "3e1ec8f0",
   "metadata": {},
   "outputs": [],
   "source": [
    "import glob\n",
    "\n",
    "for nb in glob.glob('**/*.ipynb'):\n",
    "    ipynb2rst(nb, nb[:-5]+'rst')"
   ]
  },
  {
   "cell_type": "code",
   "execution_count": 1,
   "id": "250789f6",
   "metadata": {
    "ExecuteTime": {
     "end_time": "2022-07-13T16:42:38.767332Z",
     "start_time": "2022-07-13T16:42:38.590441Z"
    }
   },
   "outputs": [],
   "source": [
    "\n",
    "\n",
    "from sphinx.ext.autosummary import Autosummary\n",
    "from sphinx.ext.autosummary import get_documenter"
   ]
  },
  {
   "cell_type": "code",
   "execution_count": 2,
   "id": "ed206f17",
   "metadata": {
    "ExecuteTime": {
     "end_time": "2022-07-13T16:43:04.404284Z",
     "start_time": "2022-07-13T16:43:03.505153Z"
    }
   },
   "outputs": [],
   "source": [
    "m = __import__('autogluon.core.models', globals(), locals(), ['AbstractModel'])"
   ]
  },
  {
   "cell_type": "code",
   "execution_count": 4,
   "id": "f408f5e0",
   "metadata": {
    "ExecuteTime": {
     "end_time": "2022-07-13T16:43:19.644182Z",
     "start_time": "2022-07-13T16:43:19.641118Z"
    }
   },
   "outputs": [],
   "source": [
    "c = getattr(m, 'AbstractModel')"
   ]
  },
  {
   "cell_type": "code",
   "execution_count": 5,
   "id": "64708ca7",
   "metadata": {
    "ExecuteTime": {
     "end_time": "2022-07-13T16:43:21.406420Z",
     "start_time": "2022-07-13T16:43:21.402656Z"
    }
   },
   "outputs": [
    {
     "data": {
      "text/plain": [
       "autogluon.core.models.abstract.abstract_model.AbstractModel"
      ]
     },
     "execution_count": 5,
     "metadata": {},
     "output_type": "execute_result"
    }
   ],
   "source": [
    "c"
   ]
  },
  {
   "cell_type": "code",
   "execution_count": 6,
   "id": "1604ee5e",
   "metadata": {
    "ExecuteTime": {
     "end_time": "2022-07-13T16:43:44.691257Z",
     "start_time": "2022-07-13T16:43:44.685910Z"
    }
   },
   "outputs": [
    {
     "data": {
      "text/plain": [
       "['__class__',\n",
       " '__delattr__',\n",
       " '__dict__',\n",
       " '__dir__',\n",
       " '__doc__',\n",
       " '__eq__',\n",
       " '__format__',\n",
       " '__ge__',\n",
       " '__getattribute__',\n",
       " '__gt__',\n",
       " '__hash__',\n",
       " '__init__',\n",
       " '__init_subclass__',\n",
       " '__le__',\n",
       " '__lt__',\n",
       " '__module__',\n",
       " '__ne__',\n",
       " '__new__',\n",
       " '__reduce__',\n",
       " '__reduce_ex__',\n",
       " '__repr__',\n",
       " '__setattr__',\n",
       " '__sizeof__',\n",
       " '__str__',\n",
       " '__subclasshook__',\n",
       " '__weakref__',\n",
       " '_ag_params',\n",
       " '_apply_conformalization',\n",
       " '_apply_temperature_scaling',\n",
       " '_compute_fit_metadata',\n",
       " '_compute_permutation_importance',\n",
       " '_convert_proba_to_unified_form',\n",
       " '_estimate_memory_usage',\n",
       " '_features',\n",
       " '_fit',\n",
       " '_get_ag_params',\n",
       " '_get_child_aux_val',\n",
       " '_get_default_ag_args',\n",
       " '_get_default_ag_args_ensemble',\n",
       " '_get_default_auxiliary_params',\n",
       " '_get_default_resources',\n",
       " '_get_default_searchspace',\n",
       " '_get_default_stopping_metric',\n",
       " '_get_hpo_results',\n",
       " '_get_model_params',\n",
       " '_get_params',\n",
       " '_get_search_space',\n",
       " '_get_tags',\n",
       " '_hyperparameter_tune',\n",
       " '_init_misc',\n",
       " '_init_params',\n",
       " '_init_params_aux',\n",
       " '_initialize',\n",
       " '_more_tags',\n",
       " '_post_fit',\n",
       " '_predict_proba',\n",
       " '_preprocess',\n",
       " '_preprocess_fit_args',\n",
       " '_preprocess_fit_resources',\n",
       " '_preprocess_nonadaptive',\n",
       " '_preprocess_set_features',\n",
       " '_register_fit_metadata',\n",
       " '_set_default_auxiliary_params',\n",
       " '_set_default_param_value',\n",
       " '_set_default_params',\n",
       " '_validate_fit_memory_usage',\n",
       " '_validate_fit_resources',\n",
       " 'can_fit',\n",
       " 'can_infer',\n",
       " 'compute_feature_importance',\n",
       " 'convert_to_refit_full_template',\n",
       " 'convert_to_refit_full_via_copy',\n",
       " 'convert_to_template',\n",
       " 'create_contexts',\n",
       " 'delete_from_disk',\n",
       " 'estimate_memory_usage',\n",
       " 'fit',\n",
       " 'get_disk_size',\n",
       " 'get_features',\n",
       " 'get_fit_metadata',\n",
       " 'get_info',\n",
       " 'get_memory_size',\n",
       " 'get_minimum_resources',\n",
       " 'get_params',\n",
       " 'get_trained_params',\n",
       " 'hyperparameter_tune',\n",
       " 'initialize',\n",
       " 'is_fit',\n",
       " 'is_initialized',\n",
       " 'is_valid',\n",
       " 'load',\n",
       " 'load_info',\n",
       " 'model_file_name',\n",
       " 'model_info_json_name',\n",
       " 'model_info_name',\n",
       " 'path_suffix',\n",
       " 'predict',\n",
       " 'predict_proba',\n",
       " 'preprocess',\n",
       " 'reduce_memory_size',\n",
       " 'rename',\n",
       " 'reset_metrics',\n",
       " 'save',\n",
       " 'save_info',\n",
       " 'score',\n",
       " 'score_with_y_pred_proba',\n",
       " 'set_contexts',\n",
       " 'validate_fit_resources']"
      ]
     },
     "execution_count": 6,
     "metadata": {},
     "output_type": "execute_result"
    }
   ],
   "source": [
    "dir(c)"
   ]
  },
  {
   "cell_type": "code",
   "execution_count": 7,
   "id": "8c6d56ae",
   "metadata": {
    "ExecuteTime": {
     "end_time": "2022-07-13T16:44:07.998465Z",
     "start_time": "2022-07-13T16:44:07.259956Z"
    }
   },
   "outputs": [
    {
     "ename": "AttributeError",
     "evalue": "'function' object has no attribute 'registry'",
     "output_type": "error",
     "traceback": [
      "\u001b[0;31m---------------------------------------------------------------------------\u001b[0m",
      "\u001b[0;31mAttributeError\u001b[0m                            Traceback (most recent call last)",
      "Input \u001b[0;32mIn [7]\u001b[0m, in \u001b[0;36m<cell line: 1>\u001b[0;34m()\u001b[0m\n\u001b[0;32m----> 1\u001b[0m documenter \u001b[38;5;241m=\u001b[39m \u001b[43mget_documenter\u001b[49m\u001b[43m(\u001b[49m\u001b[38;5;28;43mgetattr\u001b[39;49m\u001b[43m(\u001b[49m\u001b[43mc\u001b[49m\u001b[43m,\u001b[49m\u001b[43m \u001b[49m\u001b[38;5;124;43m'\u001b[39;49m\u001b[38;5;124;43mfit\u001b[39;49m\u001b[38;5;124;43m'\u001b[39;49m\u001b[43m)\u001b[49m\u001b[43m,\u001b[49m\u001b[43m \u001b[49m\u001b[43mc\u001b[49m\u001b[43m,\u001b[49m\u001b[43m \u001b[49m\u001b[43mm\u001b[49m\u001b[43m)\u001b[49m\n",
      "File \u001b[0;32m~/miniconda3/envs/ag/lib/python3.9/site-packages/sphinx/ext/autosummary/__init__.py:195\u001b[0m, in \u001b[0;36mget_documenter\u001b[0;34m(app, obj, parent)\u001b[0m\n\u001b[1;32m    192\u001b[0m     parent_doc \u001b[38;5;241m=\u001b[39m parent_doc_cls(FakeDirective(), \u001b[38;5;124m\"\u001b[39m\u001b[38;5;124m\"\u001b[39m)\n\u001b[1;32m    194\u001b[0m \u001b[38;5;66;03m# Get the correct documenter class for *obj*\u001b[39;00m\n\u001b[0;32m--> 195\u001b[0m classes \u001b[38;5;241m=\u001b[39m [\u001b[38;5;28mcls\u001b[39m \u001b[38;5;28;01mfor\u001b[39;00m \u001b[38;5;28mcls\u001b[39m \u001b[38;5;129;01min\u001b[39;00m \u001b[43mapp\u001b[49m\u001b[38;5;241;43m.\u001b[39;49m\u001b[43mregistry\u001b[49m\u001b[38;5;241m.\u001b[39mdocumenters\u001b[38;5;241m.\u001b[39mvalues()\n\u001b[1;32m    196\u001b[0m            \u001b[38;5;28;01mif\u001b[39;00m \u001b[38;5;28mcls\u001b[39m\u001b[38;5;241m.\u001b[39mcan_document_member(obj, \u001b[38;5;124m'\u001b[39m\u001b[38;5;124m'\u001b[39m, \u001b[38;5;28;01mFalse\u001b[39;00m, parent_doc)]\n\u001b[1;32m    197\u001b[0m \u001b[38;5;28;01mif\u001b[39;00m classes:\n\u001b[1;32m    198\u001b[0m     classes\u001b[38;5;241m.\u001b[39msort(key\u001b[38;5;241m=\u001b[39m\u001b[38;5;28;01mlambda\u001b[39;00m \u001b[38;5;28mcls\u001b[39m: \u001b[38;5;28mcls\u001b[39m\u001b[38;5;241m.\u001b[39mpriority)\n",
      "\u001b[0;31mAttributeError\u001b[0m: 'function' object has no attribute 'registry'"
     ]
    }
   ],
   "source": [
    "documenter = get_documenter(getattr(c, 'fit'), c, m)"
   ]
  },
  {
   "cell_type": "code",
   "execution_count": 9,
   "id": "d14981db",
   "metadata": {
    "ExecuteTime": {
     "end_time": "2022-07-13T16:46:25.341400Z",
     "start_time": "2022-07-13T16:46:25.336144Z"
    }
   },
   "outputs": [],
   "source": [
    "get_documenter?"
   ]
  },
  {
   "cell_type": "code",
   "execution_count": 10,
   "id": "9b7e98bb",
   "metadata": {
    "ExecuteTime": {
     "end_time": "2022-07-13T16:48:30.360771Z",
     "start_time": "2022-07-13T16:48:30.357778Z"
    }
   },
   "outputs": [],
   "source": [
    "from sphinx.ext.autosummary import Autosummary\n"
   ]
  },
  {
   "cell_type": "code",
   "execution_count": 11,
   "id": "1feadef4",
   "metadata": {
    "ExecuteTime": {
     "end_time": "2022-07-13T16:48:34.612155Z",
     "start_time": "2022-07-13T16:48:34.547722Z"
    }
   },
   "outputs": [],
   "source": [
    "Autosummary??"
   ]
  },
  {
   "cell_type": "code",
   "execution_count": 12,
   "id": "88dcdd1d",
   "metadata": {
    "ExecuteTime": {
     "end_time": "2022-07-13T16:50:03.862207Z",
     "start_time": "2022-07-13T16:50:03.859213Z"
    }
   },
   "outputs": [],
   "source": [
    "from sphinx.util.docutils import NullReporter, SphinxDirective"
   ]
  },
  {
   "cell_type": "code",
   "execution_count": 13,
   "id": "40966ce0",
   "metadata": {
    "ExecuteTime": {
     "end_time": "2022-07-13T16:50:07.308825Z",
     "start_time": "2022-07-13T16:50:07.291390Z"
    }
   },
   "outputs": [],
   "source": [
    "SphinxDirective??"
   ]
  },
  {
   "cell_type": "code",
   "execution_count": null,
   "id": "0c9c63c8",
   "metadata": {},
   "outputs": [],
   "source": []
  }
 ],
 "metadata": {
  "kernelspec": {
   "display_name": "Python 3 (ipykernel)",
   "language": "python",
   "name": "python3"
  },
  "language_info": {
   "codemirror_mode": {
    "name": "ipython",
    "version": 3
   },
   "file_extension": ".py",
   "mimetype": "text/x-python",
   "name": "python",
   "nbconvert_exporter": "python",
   "pygments_lexer": "ipython3",
   "version": "3.9.12"
  },
  "toc": {
   "base_numbering": 1,
   "nav_menu": {},
   "number_sections": true,
   "sideBar": true,
   "skip_h1_title": true,
   "title_cell": "Table of Contents",
   "title_sidebar": "Contents",
   "toc_cell": false,
   "toc_position": {},
   "toc_section_display": true,
   "toc_window_display": false
  }
 },
 "nbformat": 4,
 "nbformat_minor": 5
}
