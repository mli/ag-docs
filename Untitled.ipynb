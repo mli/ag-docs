{
 "cells": [
  {
   "cell_type": "markdown",
   "id": "782c8e7f",
   "metadata": {},
   "source": [
    "Convert ipynb to rst\n"
   ]
  },
  {
   "cell_type": "code",
   "execution_count": 68,
   "id": "55f735b7",
   "metadata": {},
   "outputs": [],
   "source": [
    "from typing import Dict\n",
    "import nbconvert\n",
    "import nbformat\n",
    "from nbformat import notebooknode\n",
    "import pathlib \n",
    "import os\n",
    "import hashlib\n",
    "\n",
    "def add_toggle_button(nb):\n",
    "    for i, cell in enumerate(nb.cells):\n",
    "        if cell.cell_type != 'code':\n",
    "            continue\n",
    "        code = '```python\\n' + cell.source + '\\n```'\n",
    "        output = '\\n'.join([o.get('text') for o in cell.outputs if o.get('text')])\n",
    "        if output:\n",
    "            output =  '```\\n' + output + '\\n```'\n",
    "        toggle_code = False\n",
    "        toggle_output = cell.metadata.get('collapsed')\n",
    "        new_lines = []\n",
    "        for l in code.splitlines():\n",
    "            if l.startswith('#@title'):\n",
    "                toggle_code = True\n",
    "            else:\n",
    "                new_lines.append(l)\n",
    "        mark_start = '::::{toggle}'\n",
    "        mark_end = '::::'\n",
    "        if toggle_code:\n",
    "            items = [mark_start, '\\n'.join(new_lines)]\n",
    "            if toggle_output:\n",
    "                items += [output, mark_end]\n",
    "            else:\n",
    "                items += [mark_end, output]\n",
    "        else:\n",
    "            if toggle_output:\n",
    "                items = [code, mark_start, output, mark_end]\n",
    "            else:\n",
    "                continue\n",
    "        nb.cells[i] = nbformat.v4.new_markdown_cell('\\n\\n'.join(items))\n",
    "    return nb\n",
    "    \n",
    "def convert_notebook(nb: notebooknode.NotebookNode, resources: Dict[str, str]):\n",
    "    writer = nbconvert.RSTExporter()\n",
    "    nb = add_toggle_button(nb)\n",
    "    body, resources = writer.from_notebook_node(nb, resources)\n",
    "    # fix table\n",
    "    body = body.replace('<table border=\"1\" class=\"dataframe\">', '<table class=\"dataframe docutils\">')\n",
    "    body = body.replace('class=\"colab-df-container\"', 'class=\"colab-df-container table-wrapper\"')\n",
    "    return body, resources\n",
    "\n",
    "def ipynb2rst(input_fn: str, output_fn: str):\n",
    "    if pathlib.Path(input_fn).stat().st_size == 0:\n",
    "        return\n",
    "    with open(input_fn, 'r') as f:\n",
    "        nb = nbformat.read(f, as_version=4)\n",
    "    sig = hashlib.sha1(input_fn.encode()).hexdigest()[:6]\n",
    "    resources = {\n",
    "        'unique_key':\n",
    "        'output_' + os.path.splitext(os.path.basename(output_fn))[0] + '_' + sig}\n",
    "    body, resources = convert_notebook(nb, resources)\n",
    "    with open(output_fn, 'w') as f:\n",
    "        f.write(body)\n",
    "    outputs = resources['outputs']\n",
    "    base_dir = os.path.dirname(output_fn)\n",
    "    for fn in outputs:\n",
    "        full_fn = os.path.join(base_dir, fn)\n",
    "        with open(full_fn, 'wb') as f:\n",
    "            f.write(outputs[fn])\n",
    "\n",
    "import glob\n",
    "\n",
    "for nb in glob.glob('**/*.ipynb'):\n",
    "    ipynb2rst(nb, nb[:-5]+'rst')"
   ]
  },
  {
   "cell_type": "code",
   "execution_count": 65,
   "id": "3e1ec8f0",
   "metadata": {},
   "outputs": [],
   "source": [
    "import glob\n",
    "\n",
    "for nb in glob.glob('**/*.ipynb'):\n",
    "    ipynb2rst(nb, nb[:-5]+'rst')"
   ]
  },
  {
   "cell_type": "code",
   "execution_count": null,
   "id": "250789f6",
   "metadata": {},
   "outputs": [],
   "source": []
  }
 ],
 "metadata": {
  "kernelspec": {
   "display_name": "Python 3 (ipykernel)",
   "language": "python",
   "name": "python3"
  },
  "language_info": {
   "codemirror_mode": {
    "name": "ipython",
    "version": 3
   },
   "file_extension": ".py",
   "mimetype": "text/x-python",
   "name": "python",
   "nbconvert_exporter": "python",
   "pygments_lexer": "ipython3",
   "version": "3.8.13"
  }
 },
 "nbformat": 4,
 "nbformat_minor": 5
}
